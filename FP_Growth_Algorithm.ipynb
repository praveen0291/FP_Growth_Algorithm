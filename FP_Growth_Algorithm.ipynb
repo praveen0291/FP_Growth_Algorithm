{
 "cells": [
  {
   "cell_type": "code",
   "execution_count": 2,
   "metadata": {},
   "outputs": [],
   "source": [
    "# Associated rule based FP Growth Algo\n",
    "\n",
    "import csv\n",
    "import pandas as pd\n",
    "import numpy as np\n",
    "import matplotlib.pyplot as plt\n",
    "import Orange\n",
    "from Orange.data import Domain, DiscreteVariable, ContinuousVariable\n",
    "from orangecontrib.associate.fpgrowth import *"
   ]
  },
  {
   "cell_type": "code",
   "execution_count": 5,
   "metadata": {},
   "outputs": [
    {
     "name": "stdout",
     "output_type": "stream",
     "text": [
      "{'p_24', 'p_9', 'p_0', 'p_5', 'p_16', 'p_19', 'p_27', 'p_8', 'p_17', 'p_4', 'p_20', 'p_25', 'p_31', 'p_3', 'p_1', 'p_15', 'p_30', 'p_22', 'p_11', 'p_33', 'p_32', 'p_18', 'p_21', 'p_10', 'p_23', 'p_26', 'p_14', 'p_12', 'p_13', 'p_6', 'p_2', 'p_29', 'p_7', 'p_28'}\n"
     ]
    }
   ],
   "source": [
    "# Read input file and extract data which will be accounted for FP growth\n",
    "\n",
    "\n",
    "cust_data = pd.read_csv(\"Policy_Output_ptb.csv\")\n",
    "\n",
    "sub_cust_data = cust_data[[\"CustID\",\"product_id\",\"is_purchase\"]]\n",
    "\n",
    "# taking data which has is_purchase field enabled.\n",
    "sub_cust_data = sub_cust_data[sub_cust_data.is_purchase == 1]\n",
    "\n",
    "\n",
    "\n",
    "# Select and create set of policies and corresponding products name.\n",
    "cust_policy = sub_cust_data.groupby('CustID')['product_id'].apply(list).reset_index(name='Prod_list') \n",
    "\n",
    "# another way working\n",
    "#cust_policy = sub_cust_data.groupby('CustID').agg({'product_id':lambda x: list(x)})\n",
    "\n",
    "\n",
    "policy_items = set()\n",
    "\n",
    "for line in cust_policy[\"Prod_list\"] :\n",
    "        policy_items.update(line)\n",
    "\n",
    "print(policy_items)    \n",
    "\n",
    "\n",
    "\n"
   ]
  },
  {
   "cell_type": "code",
   "execution_count": 6,
   "metadata": {},
   "outputs": [
    {
     "data": {
      "text/plain": [
       "(2716, 34)"
      ]
     },
     "execution_count": 6,
     "metadata": {},
     "output_type": "execute_result"
    }
   ],
   "source": [
    "# check shape and details of list containing policies and are purchased\n",
    "output_list = list()        \n",
    "for line in cust_policy[\"Prod_list\"] :\n",
    "    row_val = {item:0 for item in policy_items}\n",
    "    row_val.update({item:1 for item in line})\n",
    "    output_list.append(row_val)\n",
    "\n",
    "\n",
    "\n",
    "policy_df = pd.DataFrame(output_list)    \n",
    "policy_df.shape\n",
    "\n",
    "\n",
    "#print(policy_df)"
   ]
  },
  {
   "cell_type": "code",
   "execution_count": 7,
   "metadata": {},
   "outputs": [
    {
     "name": "stdout",
     "output_type": "stream",
     "text": [
      "31292\n"
     ]
    },
    {
     "data": {
      "text/html": [
       "<div>\n",
       "<style scoped>\n",
       "    .dataframe tbody tr th:only-of-type {\n",
       "        vertical-align: middle;\n",
       "    }\n",
       "\n",
       "    .dataframe tbody tr th {\n",
       "        vertical-align: top;\n",
       "    }\n",
       "\n",
       "    .dataframe thead th {\n",
       "        text-align: right;\n",
       "    }\n",
       "</style>\n",
       "<table border=\"1\" class=\"dataframe\">\n",
       "  <thead>\n",
       "    <tr style=\"text-align: right;\">\n",
       "      <th></th>\n",
       "      <th>policy_name</th>\n",
       "      <th>policy_count</th>\n",
       "    </tr>\n",
       "  </thead>\n",
       "  <tbody>\n",
       "    <tr>\n",
       "      <th>0</th>\n",
       "      <td>p_17</td>\n",
       "      <td>2291</td>\n",
       "    </tr>\n",
       "    <tr>\n",
       "      <th>1</th>\n",
       "      <td>p_33</td>\n",
       "      <td>2118</td>\n",
       "    </tr>\n",
       "    <tr>\n",
       "      <th>2</th>\n",
       "      <td>p_32</td>\n",
       "      <td>2089</td>\n",
       "    </tr>\n",
       "    <tr>\n",
       "      <th>3</th>\n",
       "      <td>p_30</td>\n",
       "      <td>2085</td>\n",
       "    </tr>\n",
       "    <tr>\n",
       "      <th>4</th>\n",
       "      <td>p_31</td>\n",
       "      <td>2084</td>\n",
       "    </tr>\n",
       "  </tbody>\n",
       "</table>\n",
       "</div>"
      ],
      "text/plain": [
       "  policy_name  policy_count\n",
       "0        p_17          2291\n",
       "1        p_33          2118\n",
       "2        p_32          2089\n",
       "3        p_30          2085\n",
       "4        p_31          2084"
      ]
     },
     "execution_count": 7,
     "metadata": {},
     "output_type": "execute_result"
    }
   ],
   "source": [
    "# Top 10 items that occur in the dataset and how much of the total sales they account for. We can\n",
    "# plot a simple histogram that will help us extract this information.\n",
    "\n",
    "total_policy_count = sum(policy_df.sum())\n",
    "\n",
    "print(total_policy_count)\n",
    "\n",
    "policy_summary_df = policy_df.sum().sort_values(ascending = False).reset_index().head(n=20)\n",
    "policy_summary_df.rename(columns={policy_summary_df.columns[0]:'policy_name',policy_summary_df.columns[1]:'policy_count'}, inplace=True)\n",
    "policy_summary_df.head()\n",
    "\n"
   ]
  },
  {
   "cell_type": "code",
   "execution_count": 5,
   "metadata": {},
   "outputs": [
    {
     "data": {
      "text/plain": [
       "Text(0.5, 1.0, 'policy sales distribution')"
      ]
     },
     "execution_count": 5,
     "metadata": {},
     "output_type": "execute_result"
    },
    {
     "data": {
      "image/png": "[encoded data removed]",
      "text/plain": [
       "<Figure size 432x288 with 1 Axes>"
      ]
     },
     "metadata": {
      "needs_background": "light"
     },
     "output_type": "display_data"
    }
   ],
   "source": [
    "# create a summary dataframe using the previous code. use this dataframe to plot the top 20 most sold policies.\n",
    "# here it will indicate which are popular policies.\n",
    "\n",
    "# The bar graph depicting the policy purchased is depicted below. \n",
    "# share of total policies is claimed by only these 20 policies.\n",
    "\n",
    "objects = (list(policy_summary_df['policy_name'].head(n=20)))\n",
    "y_pos = np.arange(len(objects))\n",
    "performance = list(policy_summary_df['policy_count'].head(n=20))\n",
    "plt.bar(y_pos, performance, align='center', alpha=0.5)\n",
    "plt.xticks(y_pos, objects, rotation='vertical')\n",
    "plt.ylabel('policy count')\n",
    "plt.title('policy sales distribution')\n",
    "\n",
    "\n"
   ]
  },
  {
   "cell_type": "code",
   "execution_count": 8,
   "metadata": {},
   "outputs": [
    {
     "data": {
      "text/html": [
       "<div>\n",
       "<style scoped>\n",
       "    .dataframe tbody tr th:only-of-type {\n",
       "        vertical-align: middle;\n",
       "    }\n",
       "\n",
       "    .dataframe tbody tr th {\n",
       "        vertical-align: top;\n",
       "    }\n",
       "\n",
       "    .dataframe thead th {\n",
       "        text-align: right;\n",
       "    }\n",
       "</style>\n",
       "<table border=\"1\" class=\"dataframe\">\n",
       "  <thead>\n",
       "    <tr style=\"text-align: right;\">\n",
       "      <th></th>\n",
       "      <th>policy_name</th>\n",
       "      <th>policy_count</th>\n",
       "      <th>policy_perc</th>\n",
       "      <th>total_perc</th>\n",
       "    </tr>\n",
       "  </thead>\n",
       "  <tbody>\n",
       "    <tr>\n",
       "      <th>0</th>\n",
       "      <td>p_17</td>\n",
       "      <td>2291</td>\n",
       "      <td>0.073214</td>\n",
       "      <td>0.073214</td>\n",
       "    </tr>\n",
       "    <tr>\n",
       "      <th>1</th>\n",
       "      <td>p_33</td>\n",
       "      <td>2118</td>\n",
       "      <td>0.067685</td>\n",
       "      <td>0.140899</td>\n",
       "    </tr>\n",
       "    <tr>\n",
       "      <th>2</th>\n",
       "      <td>p_32</td>\n",
       "      <td>2089</td>\n",
       "      <td>0.066758</td>\n",
       "      <td>0.207657</td>\n",
       "    </tr>\n",
       "    <tr>\n",
       "      <th>3</th>\n",
       "      <td>p_30</td>\n",
       "      <td>2085</td>\n",
       "      <td>0.066630</td>\n",
       "      <td>0.274287</td>\n",
       "    </tr>\n",
       "    <tr>\n",
       "      <th>4</th>\n",
       "      <td>p_31</td>\n",
       "      <td>2084</td>\n",
       "      <td>0.066598</td>\n",
       "      <td>0.340886</td>\n",
       "    </tr>\n",
       "    <tr>\n",
       "      <th>5</th>\n",
       "      <td>p_19</td>\n",
       "      <td>1867</td>\n",
       "      <td>0.059664</td>\n",
       "      <td>0.400550</td>\n",
       "    </tr>\n",
       "    <tr>\n",
       "      <th>6</th>\n",
       "      <td>p_1</td>\n",
       "      <td>1774</td>\n",
       "      <td>0.056692</td>\n",
       "      <td>0.457241</td>\n",
       "    </tr>\n",
       "    <tr>\n",
       "      <th>7</th>\n",
       "      <td>p_18</td>\n",
       "      <td>1670</td>\n",
       "      <td>0.053368</td>\n",
       "      <td>0.510610</td>\n",
       "    </tr>\n",
       "    <tr>\n",
       "      <th>8</th>\n",
       "      <td>p_2</td>\n",
       "      <td>1631</td>\n",
       "      <td>0.052122</td>\n",
       "      <td>0.562732</td>\n",
       "    </tr>\n",
       "    <tr>\n",
       "      <th>9</th>\n",
       "      <td>p_15</td>\n",
       "      <td>1424</td>\n",
       "      <td>0.045507</td>\n",
       "      <td>0.608239</td>\n",
       "    </tr>\n",
       "  </tbody>\n",
       "</table>\n",
       "</div>"
      ],
      "text/plain": [
       "  policy_name  policy_count  policy_perc  total_perc\n",
       "0        p_17          2291     0.073214    0.073214\n",
       "1        p_33          2118     0.067685    0.140899\n",
       "2        p_32          2089     0.066758    0.207657\n",
       "3        p_30          2085     0.066630    0.274287\n",
       "4        p_31          2084     0.066598    0.340886\n",
       "5        p_19          1867     0.059664    0.400550\n",
       "6         p_1          1774     0.056692    0.457241\n",
       "7        p_18          1670     0.053368    0.510610\n",
       "8         p_2          1631     0.052122    0.562732\n",
       "9        p_15          1424     0.045507    0.608239"
      ]
     },
     "execution_count": 8,
     "metadata": {},
     "output_type": "execute_result"
    }
   ],
   "source": [
    "# Now find out how much percentage of total purchase is explained by these 20 polices alone. \n",
    "# Here the cumulative sum (the total sum of data as it grows with time) function offered by pandas (cumsum) is being used to \n",
    "# find this out. \n",
    "# Two columns have created dataframe. One will tell how much percentage of total purchases can be attributed to \n",
    "# a particular policy and the other will keep a cumulative sum of this sales percentage.\n",
    "\n",
    "policy_summary_df['policy_perc'] = policy_summary_df['policy_count']/total_policy_count\n",
    "policy_summary_df['total_perc'] = policy_summary_df.policy_perc.cumsum()\n",
    "policy_summary_df.head(10)\n",
    "\n"
   ]
  },
  {
   "cell_type": "code",
   "execution_count": 9,
   "metadata": {},
   "outputs": [
    {
     "data": {
      "text/plain": [
       "(7, 4)"
      ]
     },
     "execution_count": 9,
     "metadata": {},
     "output_type": "execute_result"
    }
   ],
   "source": [
    "# This shows us that the how much purchase is there by top five policies of the entire sales and only the top 20\n",
    "# policies are responsible for over 50% of the sales! \n",
    "# This is important, as we don’t want to find association rules for items which are bought very infrequently.\n",
    "\n",
    "policy_summary_df[policy_summary_df.total_perc <= 0.5].shape\n",
    "\n"
   ]
  },
  {
   "cell_type": "code",
   "execution_count": 10,
   "metadata": {},
   "outputs": [
    {
     "data": {
      "text/html": [
       "<div>\n",
       "<style scoped>\n",
       "    .dataframe tbody tr th:only-of-type {\n",
       "        vertical-align: middle;\n",
       "    }\n",
       "\n",
       "    .dataframe tbody tr th {\n",
       "        vertical-align: top;\n",
       "    }\n",
       "\n",
       "    .dataframe thead th {\n",
       "        text-align: right;\n",
       "    }\n",
       "</style>\n",
       "<table border=\"1\" class=\"dataframe\">\n",
       "  <thead>\n",
       "    <tr style=\"text-align: right;\">\n",
       "      <th></th>\n",
       "      <th>policy_name</th>\n",
       "      <th>policy_count</th>\n",
       "      <th>policy_perc</th>\n",
       "      <th>total_perc</th>\n",
       "    </tr>\n",
       "  </thead>\n",
       "  <tbody>\n",
       "    <tr>\n",
       "      <th>0</th>\n",
       "      <td>p_17</td>\n",
       "      <td>2291</td>\n",
       "      <td>0.073214</td>\n",
       "      <td>0.073214</td>\n",
       "    </tr>\n",
       "    <tr>\n",
       "      <th>1</th>\n",
       "      <td>p_33</td>\n",
       "      <td>2118</td>\n",
       "      <td>0.067685</td>\n",
       "      <td>0.140899</td>\n",
       "    </tr>\n",
       "    <tr>\n",
       "      <th>2</th>\n",
       "      <td>p_32</td>\n",
       "      <td>2089</td>\n",
       "      <td>0.066758</td>\n",
       "      <td>0.207657</td>\n",
       "    </tr>\n",
       "    <tr>\n",
       "      <th>3</th>\n",
       "      <td>p_30</td>\n",
       "      <td>2085</td>\n",
       "      <td>0.066630</td>\n",
       "      <td>0.274287</td>\n",
       "    </tr>\n",
       "    <tr>\n",
       "      <th>4</th>\n",
       "      <td>p_31</td>\n",
       "      <td>2084</td>\n",
       "      <td>0.066598</td>\n",
       "      <td>0.340886</td>\n",
       "    </tr>\n",
       "    <tr>\n",
       "      <th>5</th>\n",
       "      <td>p_19</td>\n",
       "      <td>1867</td>\n",
       "      <td>0.059664</td>\n",
       "      <td>0.400550</td>\n",
       "    </tr>\n",
       "    <tr>\n",
       "      <th>6</th>\n",
       "      <td>p_1</td>\n",
       "      <td>1774</td>\n",
       "      <td>0.056692</td>\n",
       "      <td>0.457241</td>\n",
       "    </tr>\n",
       "  </tbody>\n",
       "</table>\n",
       "</div>"
      ],
      "text/plain": [
       "  policy_name  policy_count  policy_perc  total_perc\n",
       "0        p_17          2291     0.073214    0.073214\n",
       "1        p_33          2118     0.067685    0.140899\n",
       "2        p_32          2089     0.066758    0.207657\n",
       "3        p_30          2085     0.066630    0.274287\n",
       "4        p_31          2084     0.066598    0.340886\n",
       "5        p_19          1867     0.059664    0.400550\n",
       "6         p_1          1774     0.056692    0.457241"
      ]
     },
     "execution_count": 10,
     "metadata": {},
     "output_type": "execute_result"
    }
   ],
   "source": [
    "policy_summary_df[policy_summary_df.total_perc <= 0.5]"
   ]
  },
  {
   "cell_type": "code",
   "execution_count": 11,
   "metadata": {},
   "outputs": [],
   "source": [
    "# Creating Mining Rules\n",
    "# Using the Orange and the Orange3-Associate frameworks, The orange3-associate\n",
    "# package contains the implementation of FP growth. \n",
    "\n",
    "# convert our pandas dataframes to the Orange Table data structure.\n",
    "\n",
    "\n",
    "# Orange Table Data Structure\n",
    "# The Table data structure is the primary way to represent any tabular data in Orange. Although it is similar\n",
    "# in some way to a numpy array or a pandas dataframe, it differs from them in the way it stores metadata\n",
    "# about the actual data. In this case pandas dataframe can be converted into the Table data structure\n",
    "# by providing the metadata about our columns. Need to define the domain for each of our variables. The\n",
    "# domain means the possible set of values that each of our variables can use. This information will be stored\n",
    "# as metadata and will be used in later transformation of the data. As our columns are only having binary\n",
    "# values—i.e. either 0 or 1—we can easily create the domain by using this information. The following code\n",
    "# snippet helps us convert our dataframe to an Orange table.\n",
    "\n",
    "# Here we defined the domain of our data by specifying each variable as a DiscreteVariable having\n",
    "# values as (0, 1). Then using this domain, we created our Table structure for our data.\n",
    "\n",
    "input_assoc_rules = policy_df\n",
    "domain_policy = Domain([DiscreteVariable.make(name=policy, values=['0', '1']) for policy in input_assoc_rules.columns])\n",
    "data_pol_1 = Orange.data.Table.from_numpy(domain=domain_policy, X=input_assoc_rules.values,Y= None)\n",
    "\n",
    "\n"
   ]
  },
  {
   "cell_type": "code",
   "execution_count": 12,
   "metadata": {},
   "outputs": [],
   "source": [
    "# Using the FP Growth Algorithm\n",
    "# Now we have all the pieces required to perform our rule-mining. But before proceeding, we want to take care of one \n",
    "# more important aspect of the analysis. We saw in the earlier section how only a handful of items are responsible for \n",
    "# bulk of our sales so we want to prune our dataset to reflect this information. For this we have created a function \n",
    "# prune_dataset , which will help us reduce the size of our dataset based on our requirements. \n",
    "# The function can be used for performing two types of pruning (removing redundent cloumns which are not impacting on analysis)\n",
    "\n",
    "\n",
    "def prune_dataset(input_df, length_trans = 2, total_sales_perc = 0.5, start_item = None, end_item = None):\n",
    "    if 'total_items' in input_df.columns:\n",
    "        del(input_df['total_items'])\n",
    "    item_count = input_df.sum().sort_values(ascending = False).reset_index()\n",
    "    total_items = sum(input_df.sum().sort_values(ascending = False))\n",
    "    item_count.rename(columns={item_count.columns[0]:'item_name',item_count.columns[1]:'item_count'}, inplace=True)\n",
    "    if not start_item and not end_item: \n",
    "        item_count['item_perc'] = item_count['item_count']/total_items\n",
    "        item_count['total_perc'] = item_count.item_perc.cumsum()\n",
    "        selected_items = list(item_count[item_count.total_perc < total_sales_perc].item_name)\n",
    "        input_df['total_items'] = input_df[selected_items].sum(axis = 1)\n",
    "        input_df = input_df[input_df.total_items >= length_trans]\n",
    "        del(input_df['total_items'])\n",
    "        return input_df[selected_items], item_count[item_count.total_perc < total_sales_perc]\n",
    "    elif end_item > start_item:\n",
    "        selected_items = list(item_count[start_item:end_item].item_name)\n",
    "        input_df['total_items'] = input_df[selected_items].sum(axis = 1)\n",
    "        input_df = input_df[input_df.total_items >= length_trans]\n",
    "        del(input_df['total_items'])\n",
    "        return input_df[selected_items],item_count[start_item:end_item]\n"
   ]
  },
  {
   "cell_type": "code",
   "execution_count": 13,
   "metadata": {},
   "outputs": [
    {
     "name": "stdout",
     "output_type": "stream",
     "text": [
      "(2095, 5)\n",
      "['p_17', 'p_33', 'p_32', 'p_30', 'p_31']\n"
     ]
    }
   ],
   "source": [
    "# So we find out that we have only 5 policies responsible for 40% of sales and 2095 transactions that have\n",
    "# those items along with other items and we can also see what those items are. \n",
    "\n",
    "output_df, item_counts = prune_dataset(input_df=policy_df, length_trans=2,total_sales_perc=0.4)\n",
    "print(output_df.shape)\n",
    "print(list(output_df.columns))\n",
    "\n"
   ]
  },
  {
   "cell_type": "code",
   "execution_count": 14,
   "metadata": {},
   "outputs": [],
   "source": [
    "# The next step is to convert this selected data into the required model.\n",
    "# The new addition to the previous code is the last line. This is required for coding our input so that the\n",
    "# entire domain is represented as binary variables. This will complete all the parsing and data manipulation\n",
    "# required for our rule-mining.\n",
    "\n",
    "input_assoc_rules = output_df\n",
    "domain_policy = Domain([DiscreteVariable.make(name=item,values=['0', '1']) for item in input_assoc_rules.columns])\n",
    "data_pol_1 = Orange.data.Table.from_numpy(domain=domain_policy,  X=input_assoc_rules.values,Y= None)\n",
    "data_pol_1_en, mapping = OneHot.encode(data_pol_1, include_class=False)\n",
    "\n"
   ]
  },
  {
   "cell_type": "code",
   "execution_count": 16,
   "metadata": {},
   "outputs": [
    {
     "name": "stdout",
     "output_type": "stream",
     "text": [
      "num of required transactions =  20\n",
      "lenght of policysets =  31\n"
     ]
    }
   ],
   "source": [
    "# The final step is creating our rules. We need to specify two pieces of information for generating our\n",
    "# rules: support and confidence. \n",
    "# An important piece of information is to start with a higher support, as lower support\n",
    "# will mean a higher number of frequent policysets and hence a longer execution time. \n",
    "# We will specify a minsupport of 0.01—45 transactions at least—and see the number of frequent policysets that we get before we\n",
    "# specify confidence and generate our rules.\n",
    "\n",
    "\n",
    "min_support = 0.01\n",
    "print(\"num of required transactions = \", int(input_assoc_rules.shape[0]*min_support))\n",
    "num_trans = input_assoc_rules.shape[0]*min_support\n",
    "policysets = dict(frequent_itemsets(data_pol_1_en, min_support=min_support))\n",
    "\n",
    "print(\"lenght of policysets = \",len(policysets))\n",
    "\n"
   ]
  },
  {
   "cell_type": "code",
   "execution_count": 19,
   "metadata": {},
   "outputs": [
    {
     "name": "stdout",
     "output_type": "stream",
     "text": [
      "Raw rules data frame of 55 rules generated\n"
     ]
    }
   ],
   "source": [
    "# The next step is specifying a confidence value and generating our rules. We have written a code snippet that \n",
    "# will take a confidence value and generate the rules that fulfill our specified support and confidence criteria. \n",
    "# The rules generated are then decoded using the mapping and variable names. Orange3-Associate also provides a helper \n",
    "# function that will help us extract metrics about each of these rules. The following code snippet will perform rule \n",
    "# generation and decoding of rules, and then compile it all in a neat dataframe that we can use for further analysis.\n",
    "\n",
    "confidence = 0.3\n",
    "rules_df = pd.DataFrame()\n",
    "\n",
    "if len(policysets) < 1000000: \n",
    "    rules = [(P, Q, supp, conf)\n",
    "    for P, Q, supp, conf in association_rules(policysets, confidence)\n",
    "       if len(Q) == 1 ]\n",
    "\n",
    "    names = {item: '{}={}'.format(var.name, val)\n",
    "        for item, var, val in OneHot.decode(mapping, data_pol_1, mapping)}\n",
    "    \n",
    "    eligible_ante = [v for k,v in names.items() if v.endswith(\"1\")]\n",
    "    \n",
    "    N = input_assoc_rules.shape[0]\n",
    "    \n",
    "    rule_stats = list(rules_stats(rules, policysets, N))\n",
    "    \n",
    "    rule_list_df = []\n",
    "    for ex_rule_frm_rule_stat in rule_stats:\n",
    "        ante = ex_rule_frm_rule_stat[0]            \n",
    "        cons = ex_rule_frm_rule_stat[1]\n",
    "        named_cons = names[next(iter(cons))]\n",
    "        if named_cons in eligible_ante:\n",
    "            rule_lhs = [names[i][:-2] for i in ante if names[i] in eligible_ante]\n",
    "            ante_rule = ', '.join(rule_lhs)\n",
    "            if ante_rule and len(rule_lhs)>1 :\n",
    "                rule_dict = {'support' : ex_rule_frm_rule_stat[2],\n",
    "                             'confidence' : ex_rule_frm_rule_stat[3],\n",
    "                             'coverage' : ex_rule_frm_rule_stat[4],\n",
    "                             'strength' : ex_rule_frm_rule_stat[5],\n",
    "                             'lift' : ex_rule_frm_rule_stat[6],\n",
    "                             'leverage' : ex_rule_frm_rule_stat[7],\n",
    "                             'antecedent': ante_rule,\n",
    "                             'consequent':named_cons[:-2] }\n",
    "                rule_list_df.append(rule_dict)\n",
    "    rules_df = pd.DataFrame(rule_list_df)\n",
    "    print(\"Raw rules data frame of {} rules generated\".format(rules_df.shape[0]))\n",
    "    if not rules_df.empty:\n",
    "        pruned_rules_df = rules_df.groupby(['antecedent','consequent']).max().reset_index()\n",
    "    else:\n",
    "        print(\"Unable to generate any rule\")\n"
   ]
  },
  {
   "cell_type": "code",
   "execution_count": 20,
   "metadata": {},
   "outputs": [
    {
     "data": {
      "text/html": [
       "<div>\n",
       "<style scoped>\n",
       "    .dataframe tbody tr th:only-of-type {\n",
       "        vertical-align: middle;\n",
       "    }\n",
       "\n",
       "    .dataframe tbody tr th {\n",
       "        vertical-align: top;\n",
       "    }\n",
       "\n",
       "    .dataframe thead th {\n",
       "        text-align: right;\n",
       "    }\n",
       "</style>\n",
       "<table border=\"1\" class=\"dataframe\">\n",
       "  <thead>\n",
       "    <tr style=\"text-align: right;\">\n",
       "      <th></th>\n",
       "      <th>consequent</th>\n",
       "      <th>antecedent</th>\n",
       "      <th>support</th>\n",
       "      <th>confidence</th>\n",
       "      <th>lift</th>\n",
       "    </tr>\n",
       "  </thead>\n",
       "  <tbody>\n",
       "    <tr>\n",
       "      <th>1</th>\n",
       "      <td>p_30</td>\n",
       "      <td>p_33, p_32</td>\n",
       "      <td>2084</td>\n",
       "      <td>1.000000</td>\n",
       "      <td>1.005278</td>\n",
       "    </tr>\n",
       "    <tr>\n",
       "      <th>2</th>\n",
       "      <td>p_31</td>\n",
       "      <td>p_33, p_32, p_30</td>\n",
       "      <td>2084</td>\n",
       "      <td>1.000000</td>\n",
       "      <td>1.005278</td>\n",
       "    </tr>\n",
       "    <tr>\n",
       "      <th>3</th>\n",
       "      <td>p_32</td>\n",
       "      <td>p_33, p_30</td>\n",
       "      <td>2084</td>\n",
       "      <td>1.000000</td>\n",
       "      <td>1.002872</td>\n",
       "    </tr>\n",
       "    <tr>\n",
       "      <th>0</th>\n",
       "      <td>p_17</td>\n",
       "      <td>p_33, p_32, p_30</td>\n",
       "      <td>2080</td>\n",
       "      <td>0.998081</td>\n",
       "      <td>1.002387</td>\n",
       "    </tr>\n",
       "    <tr>\n",
       "      <th>4</th>\n",
       "      <td>p_33</td>\n",
       "      <td>p_32, p_30</td>\n",
       "      <td>2084</td>\n",
       "      <td>1.000000</td>\n",
       "      <td>1.000000</td>\n",
       "    </tr>\n",
       "  </tbody>\n",
       "</table>\n",
       "</div>"
      ],
      "text/plain": [
       "  consequent        antecedent  support  confidence      lift\n",
       "1       p_30        p_33, p_32     2084    1.000000  1.005278\n",
       "2       p_31  p_33, p_32, p_30     2084    1.000000  1.005278\n",
       "3       p_32        p_33, p_30     2084    1.000000  1.002872\n",
       "0       p_17  p_33, p_32, p_30     2080    0.998081  1.002387\n",
       "4       p_33        p_32, p_30     2084    1.000000  1.000000"
      ]
     },
     "execution_count": 20,
     "metadata": {},
     "output_type": "execute_result"
    }
   ],
   "source": [
    "# The output of above functionality consists of the association rules dataframe that we can use for our\n",
    "# analysis. policy number, consequent, antecedent, support, and confidence\n",
    "# values can be altered or add / delete to generate different rules. \n",
    "# Here, we have collected rules having maximum lift for each of the items that can be a consequent (that\n",
    "# appear on the right side) by using the following code.\n",
    "\n",
    "\n",
    "# Sorting rules in our Policy Dataset\n",
    "\n",
    "(pruned_rules_df[['antecedent','consequent',\n",
    "                  'support','confidence','lift']].groupby('consequent')\n",
    "                                                 .max()\n",
    "                                                 .reset_index()\n",
    "                                                 .sort_values(['lift', 'support','confidence'],\n",
    "                                                              ascending=False))\n",
    "\n"
   ]
  },
  {
   "cell_type": "code",
   "execution_count": null,
   "metadata": {},
   "outputs": [],
   "source": []
  }
 ],
 "metadata": {
  "kernelspec": {
   "display_name": "Python 3",
   "language": "python",
   "name": "python3"
  },
  "language_info": {
   "codemirror_mode": {
    "name": "ipython",
    "version": 3
   },
   "file_extension": ".py",
   "mimetype": "text/x-python",
   "name": "python",
   "nbconvert_exporter": "python",
   "pygments_lexer": "ipython3",
   "version": "3.7.6"
  }
 },
 "nbformat": 4,
 "nbformat_minor": 4
}
